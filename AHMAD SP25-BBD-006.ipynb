{
 "cells": [
  {
   "cell_type": "markdown",
   "id": "be21a8b9-cc77-4666-9d75-155ab2785afb",
   "metadata": {},
   "source": [
    "# AHMAD (SP25-BBD-006) :"
   ]
  },
  {
   "cell_type": "markdown",
   "id": "c65c9f19-5698-4923-b6ec-0295d829531b",
   "metadata": {},
   "source": [
    "# QUESTION 1 :"
   ]
  },
  {
   "cell_type": "code",
   "execution_count": null,
   "id": "eb9356e4-acbf-467c-80e6-d754ae6158ca",
   "metadata": {},
   "outputs": [],
   "source": []
  },
  {
   "cell_type": "code",
   "execution_count": 1,
   "id": "f4fb033e-1aea-40e9-91e0-680cc1d1ea77",
   "metadata": {},
   "outputs": [
    {
     "name": "stdout",
     "output_type": "stream",
     "text": [
      "2\n",
      "4\n",
      "6\n",
      "8\n",
      "10\n",
      "12\n",
      "14\n",
      "16\n",
      "18\n",
      "20\n"
     ]
    }
   ],
   "source": [
    "for i in range(2,21,2):\n",
    "    print(i)"
   ]
  },
  {
   "cell_type": "markdown",
   "id": "0fe2152c-ca88-4de4-be7e-6daa44b39f13",
   "metadata": {},
   "source": [
    "# QUESTION 2 :\n",
    "\n"
   ]
  },
  {
   "cell_type": "code",
   "execution_count": 6,
   "id": "01b1e9b2-aab4-47e4-8f34-3cca2c6c8b9c",
   "metadata": {},
   "outputs": [
    {
     "name": "stdout",
     "output_type": "stream",
     "text": [
      "ADNAN\n",
      "AHAMD\n",
      "ABDULLAH\n"
     ]
    }
   ],
   "source": [
    "names = ['Adnan','Ahamd','Abdullah']\n",
    "for list in names:\n",
    "    print(list.upper())"
   ]
  },
  {
   "cell_type": "markdown",
   "id": "5d0ba584-7643-4352-bfa7-94184a013ec8",
   "metadata": {},
   "source": [
    "# QUESTION 3 :"
   ]
  },
  {
   "cell_type": "code",
   "execution_count": 10,
   "id": "63f16e88-1c96-4e5d-abc9-9b496a789b18",
   "metadata": {},
   "outputs": [
    {
     "name": "stdout",
     "output_type": "stream",
     "text": [
      "10\n",
      "9\n",
      "8\n",
      "7\n",
      "6\n",
      "5\n",
      "4\n",
      "3\n",
      "2\n",
      "1\n"
     ]
    }
   ],
   "source": [
    "for number in range(10,0,-1):\n",
    "    print(number)"
   ]
  },
  {
   "cell_type": "markdown",
   "id": "001ab83a-4cf1-490c-b1b4-5e1dbd7e2444",
   "metadata": {},
   "source": [
    "# QUESTION 4 :\n"
   ]
  },
  {
   "cell_type": "code",
   "execution_count": 12,
   "id": "0675b5f3-7e51-45ae-866d-6d4bba586d75",
   "metadata": {},
   "outputs": [
    {
     "name": "stdout",
     "output_type": "stream",
     "text": [
      "3\n",
      "6\n",
      "9\n",
      "12\n",
      "15\n",
      "18\n"
     ]
    }
   ],
   "source": [
    "for num in range(1,21):\n",
    "    if num % 3 == 0:\n",
    "        print(num)"
   ]
  },
  {
   "cell_type": "markdown",
   "id": "cbff6f86-db04-4b8a-ab26-9b864342e560",
   "metadata": {},
   "source": [
    "# QUESTION 5 :\n"
   ]
  },
  {
   "cell_type": "code",
   "execution_count": 14,
   "id": "a4b232e2-b51b-4a8f-9bb4-df563a73cf15",
   "metadata": {},
   "outputs": [
    {
     "name": "stdout",
     "output_type": "stream",
     "text": [
      "1\n",
      "4\n",
      "9\n",
      "16\n",
      "25\n",
      "36\n",
      "49\n",
      "64\n",
      "81\n",
      "100\n"
     ]
    }
   ],
   "source": [
    "for num in range(1, 11):\n",
    "    print(num ** 2)"
   ]
  },
  {
   "cell_type": "markdown",
   "id": "528ddfca-8c0f-4e24-ad4d-a907bbdc0710",
   "metadata": {},
   "source": [
    "# QUESTION 6 :\n"
   ]
  },
  {
   "cell_type": "code",
   "execution_count": 15,
   "id": "a82659e4-b566-4fd0-8409-c00fcc104538",
   "metadata": {},
   "outputs": [
    {
     "name": "stdout",
     "output_type": "stream",
     "text": [
      "0°C = 32.0°F\n",
      "10°C = 50.0°F\n",
      "20°C = 68.0°F\n",
      "30°C = 86.0°F\n",
      "40°C = 104.0°F\n",
      "50°C = 122.0°F\n"
     ]
    }
   ],
   "source": [
    "celsius_temps = [0, 10, 20, 30, 40, 50]\n",
    "for temp in celsius_temps:\n",
    "    fahrenheit = (temp * 9/5) + 32\n",
    "    print(f\"{temp}°C = {fahrenheit}°F\")"
   ]
  },
  {
   "cell_type": "markdown",
   "id": "daeb1d16-3639-437a-af48-48da4a1f5ec6",
   "metadata": {},
   "source": [
    "# QUESTION 7 :"
   ]
  },
  {
   "cell_type": "code",
   "execution_count": 16,
   "id": "6355e452-61ea-4dd2-959a-c5a67ab013d3",
   "metadata": {},
   "outputs": [
    {
     "name": "stdout",
     "output_type": "stream",
     "text": [
      "5 x 1 = 5\n",
      "5 x 2 = 10\n",
      "5 x 3 = 15\n",
      "5 x 4 = 20\n",
      "5 x 5 = 25\n",
      "5 x 6 = 30\n",
      "5 x 7 = 35\n",
      "5 x 8 = 40\n",
      "5 x 9 = 45\n",
      "5 x 10 = 50\n"
     ]
    }
   ],
   "source": [
    "for i in range(1, 11):\n",
    "    print(f\"5 x {i} = {5 * i}\")\n",
    "    "
   ]
  },
  {
   "cell_type": "markdown",
   "id": "4f17358d-a99a-440b-8e2a-2d37e58e8b7e",
   "metadata": {},
   "source": [
    "# QUESTION 8 :"
   ]
  },
  {
   "cell_type": "code",
   "execution_count": 22,
   "id": "5fae5a30-02f4-48b7-96e6-bc8669c4470f",
   "metadata": {},
   "outputs": [
    {
     "name": "stdout",
     "output_type": "stream",
     "text": [
      "Sum: 35\n"
     ]
    }
   ],
   "source": [
    "numbers = [3, 7, 12, 5, 8]\n",
    "total = 0\n",
    "for num in numbers:\n",
    "    total += num\n",
    "print(\"Sum:\", total)"
   ]
  },
  {
   "cell_type": "markdown",
   "id": "70bc6022-b3bb-46c8-82cd-8bba18e8b884",
   "metadata": {},
   "source": [
    "# QUESTION 9 :"
   ]
  },
  {
   "cell_type": "code",
   "execution_count": 23,
   "id": "44e62bc2-9e9c-4d63-8cb5-c28292ad5b53",
   "metadata": {},
   "outputs": [
    {
     "name": "stdout",
     "output_type": "stream",
     "text": [
      "A\n",
      "D\n",
      "N\n",
      "A\n",
      "N\n",
      " \n",
      "A\n",
      "S\n",
      "L\n",
      "A\n",
      "M\n"
     ]
    }
   ],
   "source": [
    "text = \"ADNAN ASLAM\"\n",
    "for character in text:\n",
    "    print(character)"
   ]
  },
  {
   "cell_type": "markdown",
   "id": "0ceced47-4a9e-4e84-a295-89d449015bd0",
   "metadata": {},
   "source": [
    "# QUESTION 10 :"
   ]
  },
  {
   "cell_type": "code",
   "execution_count": 27,
   "id": "fc0a9a6c-5a71-4791-8b17-e48359331f38",
   "metadata": {},
   "outputs": [
    {
     "name": "stdout",
     "output_type": "stream",
     "text": [
      "Abdullah\n",
      "Anushay\n"
     ]
    }
   ],
   "source": [
    "words = ['Ahmad','Abdullah','Anushay']\n",
    "for word in words:\n",
    "    if len(word) > 5 :\n",
    "        print(word)"
   ]
  }
 ],
 "metadata": {
  "kernelspec": {
   "display_name": "Python 3 (ipykernel)",
   "language": "python",
   "name": "python3"
  },
  "language_info": {
   "codemirror_mode": {
    "name": "ipython",
    "version": 3
   },
   "file_extension": ".py",
   "mimetype": "text/x-python",
   "name": "python",
   "nbconvert_exporter": "python",
   "pygments_lexer": "ipython3",
   "version": "3.12.7"
  }
 },
 "nbformat": 4,
 "nbformat_minor": 5
}
